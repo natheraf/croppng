{
  "nbformat": 4,
  "nbformat_minor": 0,
  "metadata": {
    "colab": {
      "provenance": []
    },
    "kernelspec": {
      "name": "python3",
      "display_name": "Python 3"
    },
    "language_info": {
      "name": "python"
    }
  },
  "cells": [
    {
      "cell_type": "code",
      "execution_count": 1,
      "metadata": {
        "colab": {
          "base_uri": "https://localhost:8080/",
          "height": 357
        },
        "id": "u2sScV9jeqtV",
        "outputId": "5c18709f-ed2b-4bb1-c3e4-3b269e9e8aa2"
      },
      "outputs": [
        {
          "output_type": "error",
          "ename": "FileNotFoundError",
          "evalue": "ignored",
          "traceback": [
            "\u001b[0;31m---------------------------------------------------------------------------\u001b[0m",
            "\u001b[0;31mFileNotFoundError\u001b[0m                         Traceback (most recent call last)",
            "\u001b[0;32m<ipython-input-1-fd684f2edeec>\u001b[0m in \u001b[0;36m<module>\u001b[0;34m\u001b[0m\n\u001b[1;32m     34\u001b[0m \u001b[0;34m\u001b[0m\u001b[0m\n\u001b[1;32m     35\u001b[0m \u001b[0;31m# create dataset for cropped images\u001b[0m\u001b[0;34m\u001b[0m\u001b[0;34m\u001b[0m\u001b[0m\n\u001b[0;32m---> 36\u001b[0;31m \u001b[0mdataset\u001b[0m \u001b[0;34m=\u001b[0m \u001b[0mImageDataset\u001b[0m\u001b[0;34m(\u001b[0m\u001b[0minputdir\u001b[0m\u001b[0;34m,\u001b[0m \u001b[0mtransform\u001b[0m\u001b[0;34m=\u001b[0m\u001b[0mtransform\u001b[0m\u001b[0;34m)\u001b[0m\u001b[0;34m\u001b[0m\u001b[0;34m\u001b[0m\u001b[0m\n\u001b[0m\u001b[1;32m     37\u001b[0m \u001b[0;34m\u001b[0m\u001b[0m\n\u001b[1;32m     38\u001b[0m \u001b[0;31m# save the cropped images to output file\u001b[0m\u001b[0;34m\u001b[0m\u001b[0;34m\u001b[0m\u001b[0m\n",
            "\u001b[0;32m<ipython-input-1-fd684f2edeec>\u001b[0m in \u001b[0;36m__init__\u001b[0;34m(self, imagedir, transform)\u001b[0m\n\u001b[1;32m     10\u001b[0m         \u001b[0mself\u001b[0m\u001b[0;34m.\u001b[0m\u001b[0mimagedir\u001b[0m \u001b[0;34m=\u001b[0m \u001b[0mimagedir\u001b[0m\u001b[0;34m\u001b[0m\u001b[0;34m\u001b[0m\u001b[0m\n\u001b[1;32m     11\u001b[0m         \u001b[0mself\u001b[0m\u001b[0;34m.\u001b[0m\u001b[0mtransform\u001b[0m \u001b[0;34m=\u001b[0m \u001b[0mtransform\u001b[0m\u001b[0;34m\u001b[0m\u001b[0;34m\u001b[0m\u001b[0m\n\u001b[0;32m---> 12\u001b[0;31m         \u001b[0mself\u001b[0m\u001b[0;34m.\u001b[0m\u001b[0mimages\u001b[0m \u001b[0;34m=\u001b[0m \u001b[0mos\u001b[0m\u001b[0;34m.\u001b[0m\u001b[0mlistdir\u001b[0m\u001b[0;34m(\u001b[0m\u001b[0mimagedir\u001b[0m\u001b[0;34m)\u001b[0m\u001b[0;34m\u001b[0m\u001b[0;34m\u001b[0m\u001b[0m\n\u001b[0m\u001b[1;32m     13\u001b[0m \u001b[0;34m\u001b[0m\u001b[0m\n\u001b[1;32m     14\u001b[0m     \u001b[0;31m#returns number of images in dataset\u001b[0m\u001b[0;34m\u001b[0m\u001b[0;34m\u001b[0m\u001b[0m\n",
            "\u001b[0;31mFileNotFoundError\u001b[0m: [Errno 2] No such file or directory: '/content/Images'"
          ]
        }
      ],
      "source": [
        "import torch\n",
        "from torchvision import transforms #transforms images\n",
        "from PIL import Image #using this instead of opencv for image file management\n",
        "import os #for creating and removing folders\n",
        "\n",
        "#create ImageDataset class inherits from pytorch Dataset class\n",
        "class ImageDataset(torch.utils.data.Dataset):\n",
        "    #constructor\n",
        "    def __init__(self, imagedir, transform=None):\n",
        "        self.imagedir = imagedir\n",
        "        self.transform = transform\n",
        "        self.images = os.listdir(imagedir) \n",
        "\n",
        "    #returns number of images in dataset    \n",
        "    def __len__(self):\n",
        "        return len(self.images)\n",
        "\n",
        "    #gets the reuturned crop image, processes the cropping\n",
        "    def __getitem__(self, idx):\n",
        "        #loads the image using pillow\n",
        "        imagepath = os.path.join(self.imagedir, self.images[idx])\n",
        "        image = Image.open(imagepath)\n",
        "        # applies transormation\n",
        "        croppedimage = self.transform(image)\n",
        "        # returns the cropped image \n",
        "        return croppedimage, self.images[idx]\n",
        "\n",
        "# crops at center\n",
        "transform = transforms.CenterCrop(size=300) #change this numver for the size of the cropping\n",
        "\n",
        "# create paths for input of images and output(where its saved)\n",
        "#copy and paste path of your photos directory onto inputdir(for me its from my \"Images\" folder)\n",
        "inputdir = '/content/Images'\n",
        "outputdir = '/content/cropped'\n",
        "\n",
        "# create dataset for cropped images\n",
        "dataset = ImageDataset(inputdir, transform=transform)\n",
        "\n",
        "# save the cropped images to output file\n",
        "for image, filename in dataset:\n",
        "    croppedpath = os.path.join(outputdir, filename)\n",
        "    image.save(croppedpath)"
      ]
    }
  ]
}